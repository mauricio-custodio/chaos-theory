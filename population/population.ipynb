{
 "cells": [
  {
   "cell_type": "code",
   "execution_count": null,
   "metadata": {},
   "outputs": [],
   "source": [
    "import matplotlib.pyplot as plt\n",
    "import numpy\n",
    "\n",
    "# Helpers\n",
    "from dataclasses import dataclass\n",
    "import pytest\n",
    "\n",
    "def is_convergent(values: list[float]) -> bool:\n",
    "    derivative_first = list( numpy.gradient( values ))\n",
    "    derivative_second = list( numpy.gradient( values ))\n",
    "\n",
    "    N = len(values) - 1\n",
    "    angle_nth = derivative_first[N]\n",
    "    curvature_nth = derivative_second[N]\n",
    "    return is_zero(angle_nth) and is_zero(curvature_nth)\n",
    "\n",
    "def is_zero(value) -> bool:\n",
    "    limit = 5e-7\n",
    "    return limit > abs(value)"
   ]
  },
  {
   "cell_type": "code",
   "execution_count": null,
   "metadata": {},
   "outputs": [],
   "source": [
    "@dataclass(frozen=True)\n",
    "class Population:\n",
    "\n",
    "    generation: int\n",
    "    value: float\n",
    "    growth_rate: float\n",
    "    init: float\n",
    "    history: list[float]\n",
    "\n",
    "    @classmethod\n",
    "    def new(cls, r: float, x0: float) -> 'Population':\n",
    "        return Population(\n",
    "            generation = 1,\n",
    "            value = x0,\n",
    "            growth_rate = r,\n",
    "            init = x0,\n",
    "            history = [x0],\n",
    "        )\n",
    "    \n",
    "    # Population\n",
    "    \n",
    "    def next_generation(self) -> 'Population':\n",
    "        r: float = self.growth_rate\n",
    "        x: float = self.value\n",
    "        x1 = r * x * (1 - x)\n",
    "\n",
    "        history = self.history + [x1]\n",
    "        generation = len(history)\n",
    "        \n",
    "        return Population(\n",
    "            generation = generation,\n",
    "            value = history[ generation - 1 ],\n",
    "            growth_rate = self.growth_rate,\n",
    "            init = history[0],\n",
    "            history = history,\n",
    "        )\n",
    "\n",
    "    def next_nth_generations(self, n: int) -> 'Population':\n",
    "        N = n + self.generation\n",
    "        return self.until_nth_generation(N)\n",
    "    \n",
    "    def until_nth_generation(self, N: int) -> 'Population':\n",
    "        while self.generation < N:\n",
    "            self = self.next_generation()\n",
    "        return self\n",
    "\n",
    "    # Trend and convergence\n",
    "\n",
    "    def is_convergent(self) -> bool:\n",
    "        return is_convergent(self.history)\n",
    "    \n",
    "    def grow_until_stable(self, limit=5000) -> 'Population':\n",
    "        self = self.until_nth_generation(5)\n",
    "        while self.is_convergent() == False and self.generation < limit:\n",
    "            self = self.next_nth_generations(10)\n",
    "        return self\n",
    "\n",
    "    # Helpers\n",
    "\n",
    "    def print(self):\n",
    "        print(self.__dict__)\n",
    "        self\n",
    "\n",
    "    def validate(self, dict): \n",
    "        assert self.growth_rate == dict['growth_rate']\n",
    "        assert self.init == dict['init']\n",
    "        assert self.value == dict['value']\n",
    "        assert self.history == dict['history']\n",
    "        assert self.generation == dict['generation']\n",
    "\n",
    "\n",
    "# TESTS\n",
    "\n",
    "population = Population.new(r=1.0, x0 = 0.5)\n",
    "population.validate({'generation': 1, 'value': 0.5, 'growth_rate': 1.0, 'init': 0.5, 'history': [0.5]})\n",
    "\n",
    "population = population.next_generation()\n",
    "population.validate({'generation': 2, 'value': 0.25, 'growth_rate': 1.0, 'init': 0.5, 'history': [0.5, 0.25]})\n",
    "\n",
    "population = population.until_nth_generation(15)\n",
    "population.validate({'generation': 15, 'value': 0.05357062532685648, 'growth_rate': 1.0, 'init': 0.5, 'history': [0.5, 0.25, 0.1875, 0.15234375, 0.1291351318359375, 0.11245924956165254, 0.09981216674968249, 0.08984969811841606, 0.08177672986644556, 0.07508929631879595, 0.06945089389714401, 0.06462746723403166, 0.06045075771294583, 0.05679646360487655, 0.05357062532685648]})\n",
    "\n",
    "population = population.next_nth_generations(10)\n",
    "population.validate({'generation': 25, 'value': 0.03433841067421475, 'growth_rate': 1.0, 'init': 0.5, 'history': [0.5, 0.25, 0.1875, 0.15234375, 0.1291351318359375, 0.11245924956165254, 0.09981216674968249, 0.08984969811841606, 0.08177672986644556, 0.07508929631879595, 0.06945089389714401, 0.06462746723403166, 0.06045075771294583, 0.05679646360487655, 0.05357062532685648, 0.05070081342894604, 0.04813024094658925, 0.04581372085301251, 0.04371482383461476, 0.041803838011723354, 0.04005627713921295, 0.03845177180095951, 0.036973233046326444, 0.035606213084428476, 0.03433841067421475]})\n",
    "\n",
    "assert population.is_convergent() == False\n",
    "\n",
    "population = population.grow_until_stable(limit=5000)\n",
    "assert population.is_convergent() == True\n",
    "assert population.generation == 1415\n",
    "assert population.value == 0.0007027267701217214"
   ]
  },
  {
   "cell_type": "markdown",
   "metadata": {},
   "source": [
    "### Plot functions"
   ]
  },
  {
   "cell_type": "code",
   "execution_count": null,
   "metadata": {},
   "outputs": [],
   "source": [
    "def plot_population_over_time(population: Population):\n",
    "    x = range(population.generation)\n",
    "    y = population.history\n",
    "        \n",
    "    plt.plot(x, y)\n",
    "\n",
    "def plot_convergence_values(list_population: list[Population]):\n",
    "    x = []\n",
    "    y = []\n",
    "\n",
    "    for i in range(len(list_population)):\n",
    "        population = list_population[i]\n",
    "        x = x + [population.growth_rate]\n",
    "        y = y + [population.value]\n",
    "\n",
    "    plt.scatter(x, y)"
   ]
  },
  {
   "cell_type": "code",
   "execution_count": null,
   "metadata": {},
   "outputs": [],
   "source": [
    "plot_population_over_time(population)"
   ]
  },
  {
   "cell_type": "markdown",
   "metadata": {},
   "source": [
    "## Calculate populations with different growth rate"
   ]
  },
  {
   "cell_type": "code",
   "execution_count": null,
   "metadata": {},
   "outputs": [],
   "source": [
    "step = 0.01\n",
    "r_range = numpy.arange(1.0, 4.0, step) \n",
    "x = 0.5\n",
    "\n",
    "list_population = []\n",
    "\n",
    "for r in r_range:\n",
    "    print(r)\n",
    "    result = Population.new(r = r, x0 = x).until_nth_generation(2000)\n",
    "    list_population = list_population + [result]"
   ]
  },
  {
   "cell_type": "markdown",
   "metadata": {},
   "source": [
    "## Plot convergence values"
   ]
  },
  {
   "cell_type": "code",
   "execution_count": null,
   "metadata": {},
   "outputs": [],
   "source": [
    "plot_convergence_values(list_population)"
   ]
  },
  {
   "cell_type": "markdown",
   "metadata": {},
   "source": [
    "## Population vs Generation vs Growth rate"
   ]
  },
  {
   "cell_type": "code",
   "execution_count": null,
   "metadata": {},
   "outputs": [],
   "source": [
    "%matplotlib inline\n",
    "import pylab as pl\n",
    "from IPython import display\n",
    "\n",
    "gen_limit = 50\n",
    "\n",
    "for population in list_population:\n",
    "    x = range(gen_limit)\n",
    "    y = population.history[0:gen_limit]\n",
    "\n",
    "    display.clear_output(wait=True)\n",
    "    plt.ylim([0.0, 1.0])\n",
    "    plt.plot(x, y)\n",
    "    plt.xlabel('generation')\n",
    "    plt.ylabel('population')\n",
    "    plt.legend([f'growth rate = {population.growth_rate}'], loc='upper left')\n",
    "    plt.show()"
   ]
  }
 ],
 "metadata": {
  "interpreter": {
   "hash": "19d1d53a962d236aa061289c2ac16dc8e6d9648c89fe79f459ae9a3493bc67b4"
  },
  "kernelspec": {
   "display_name": "Python 3.9.7 ('base')",
   "language": "python",
   "name": "python3"
  },
  "language_info": {
   "codemirror_mode": {
    "name": "ipython",
    "version": 3
   },
   "file_extension": ".py",
   "mimetype": "text/x-python",
   "name": "python",
   "nbconvert_exporter": "python",
   "pygments_lexer": "ipython3",
   "version": "3.9.7"
  },
  "orig_nbformat": 4
 },
 "nbformat": 4,
 "nbformat_minor": 2
}
