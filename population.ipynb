{
 "cells": [
  {
   "cell_type": "markdown",
   "metadata": {},
   "source": [
    "### Logistic differential equation"
   ]
  },
  {
   "cell_type": "code",
   "execution_count": null,
   "metadata": {},
   "outputs": [],
   "source": [
    "def population_next_generation(growth_rate: float, population: float) -> float:\n",
    "    r: float = growth_rate\n",
    "    x: float = population\n",
    "    return r * x * (1 - x)\n",
    "\n",
    "def population_nth_generation(growth_rate: float, population_history: list, generations: int) -> list:\n",
    "    r: float = growth_rate\n",
    "    n: int = generations\n",
    "    X: list = population_history\n",
    "    x0: float = population_history[-1]\n",
    "\n",
    "    x1 = population_next_generation(r, x0)\n",
    "    X = X + [x1]\n",
    "    n = n - 1\n",
    "    \n",
    "    if n > 0:\n",
    "        return population_nth_generation(r, X, n)\n",
    "    else:\n",
    "        return X"
   ]
  },
  {
   "cell_type": "markdown",
   "metadata": {},
   "source": [
    "### Helper functions"
   ]
  },
  {
   "cell_type": "code",
   "execution_count": null,
   "metadata": {},
   "outputs": [],
   "source": [
    "import matplotlib.pyplot as plt\n",
    "\n",
    "def plot_population_over_time(population_history: list):\n",
    "    fig = plt.figure()\n",
    "    ax = fig.add_subplot(1, 1, 1) \n",
    "\n",
    "    x = range(len(population_history))\n",
    "    y = population_history\n",
    "        \n",
    "    ax.cla()\n",
    "    ax.plot(x, y)"
   ]
  },
  {
   "cell_type": "markdown",
   "metadata": {},
   "source": [
    "### Next generation population"
   ]
  },
  {
   "cell_type": "code",
   "execution_count": null,
   "metadata": {},
   "outputs": [],
   "source": [
    "r = 2.5\n",
    "x = 0.5"
   ]
  },
  {
   "cell_type": "code",
   "execution_count": null,
   "metadata": {},
   "outputs": [],
   "source": [
    "x = population_next_generation(r, x)\n",
    "x"
   ]
  },
  {
   "cell_type": "markdown",
   "metadata": {},
   "source": [
    "### Calculate all generation's population"
   ]
  },
  {
   "cell_type": "code",
   "execution_count": null,
   "metadata": {},
   "outputs": [],
   "source": [
    "r = 3.0\n",
    "x = 0.5\n",
    "n = 100\n",
    "\n",
    "X = population_nth_generation(r, [x], n)\n",
    "plot_population_over_time(X)"
   ]
  },
  {
   "cell_type": "markdown",
   "metadata": {},
   "source": [
    "### Convergence value"
   ]
  },
  {
   "cell_type": "code",
   "execution_count": null,
   "metadata": {},
   "outputs": [],
   "source": [
    "import numpy\n",
    "\n",
    "def convergence_value(series: list) -> float:\n",
    "    derivative_first = list( numpy.gradient( series ))\n",
    "    derivative_second = list( numpy.gradient( series ))\n",
    "\n",
    "    value_nth = series[-1]\n",
    "    angle_nth = derivative_first[-1]\n",
    "    curvature_nth = derivative_second[-1]\n",
    "\n",
    "    if is_zero(angle_nth) and is_zero(curvature_nth):\n",
    "        return value_nth\n",
    "    else: \n",
    "        return None\n",
    "\n",
    "def is_zero(value):\n",
    "    limit = 5e-5\n",
    "    return limit > abs(value)\n",
    "    "
   ]
  },
  {
   "cell_type": "code",
   "execution_count": null,
   "metadata": {},
   "outputs": [],
   "source": [
    "r = 1.0\n",
    "x = 0.5\n",
    "n = 150\n",
    "X = population_nth_generation(r, [x], n)\n",
    "\n",
    "convergence_value(X)"
   ]
  }
 ],
 "metadata": {
  "interpreter": {
   "hash": "ecf5722fdaf1897a315d257d89d94520bfcaa453217d5becf09b39e73618b0de"
  },
  "kernelspec": {
   "display_name": "Python 3.9.7 ('base')",
   "language": "python",
   "name": "python3"
  },
  "language_info": {
   "codemirror_mode": {
    "name": "ipython",
    "version": 3
   },
   "file_extension": ".py",
   "mimetype": "text/x-python",
   "name": "python",
   "nbconvert_exporter": "python",
   "pygments_lexer": "ipython3",
   "version": "3.9.7"
  },
  "orig_nbformat": 4
 },
 "nbformat": 4,
 "nbformat_minor": 2
}
