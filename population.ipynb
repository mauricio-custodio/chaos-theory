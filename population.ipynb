{
 "cells": [
  {
   "cell_type": "code",
   "execution_count": null,
   "metadata": {},
   "outputs": [],
   "source": [
    "# Required\n",
    "import matplotlib.pyplot as plt\n",
    "import numpy\n",
    "\n",
    "# Helpers\n",
    "from dataclasses import dataclass\n",
    "import pytest"
   ]
  },
  {
   "cell_type": "code",
   "execution_count": null,
   "metadata": {},
   "outputs": [],
   "source": [
    "@dataclass(frozen=True)\n",
    "class Population(object):\n",
    "\n",
    "    generation: int\n",
    "    value: float\n",
    "    growth_rate: float\n",
    "    init: float\n",
    "    history: list[float]\n",
    "\n",
    "    @classmethod\n",
    "    def new(cls, r: float, x0: float) -> 'Population':\n",
    "        return Population(\n",
    "            growth_rate = r,\n",
    "            history = [x0],\n",
    "            generation = 1,\n",
    "            init = x0,\n",
    "            value = x0,\n",
    "        )\n",
    "    \n",
    "    def next_generation(self) -> 'Population':\n",
    "        r: float = self.growth_rate\n",
    "        x: float = self.value\n",
    "        x1 = r * x * (1 - x)\n",
    "\n",
    "        history = self.history + [x1]\n",
    "        generation = len(history)\n",
    "        \n",
    "        return Population(\n",
    "            growth_rate = self.growth_rate,\n",
    "            history = history,\n",
    "            generation = generation,\n",
    "            init = history[0],\n",
    "            value = history[ generation - 1 ],\n",
    "        )\n",
    "\n",
    "    def next_nth_generations(self, n: int) -> 'Population':\n",
    "        N = n + self.generation\n",
    "        return self.until_nth_generation(N)\n",
    "    \n",
    "    def until_nth_generation(self, N: int) -> 'Population':\n",
    "        while self.generation < N:\n",
    "            self = self.next_generation()\n",
    "        return self\n",
    "\n",
    "    # Helpers\n",
    "\n",
    "    def print(self):\n",
    "        print(self.__dict__)\n",
    "\n",
    "    def validate(self, dict): \n",
    "        self.print()\n",
    "        assert population.growth_rate == dict['growth_rate']\n",
    "        assert population.init == dict['init']\n",
    "        assert population.value == dict['value']\n",
    "        assert population.history == dict['history']\n",
    "        assert population.generation == dict['generation']"
   ]
  },
  {
   "cell_type": "code",
   "execution_count": null,
   "metadata": {},
   "outputs": [],
   "source": [
    "population = Population.new(r=1.0, x0 = 0.5)\n",
    "population.validate({'generation': 1, 'value': 0.5, 'growth_rate': 1.0, 'init': 0.5, 'history': [0.5]})\n",
    "\n",
    "population = population.next_generation()\n",
    "population.validate({'generation': 2, 'value': 0.25, 'growth_rate': 1.0, 'init': 0.5, 'history': [0.5, 0.25]})\n",
    "\n",
    "population = population.until_nth_generation(15)\n",
    "population.validate({'generation': 15, 'value': 0.05357062532685648, 'growth_rate': 1.0, 'init': 0.5, 'history': [0.5, 0.25, 0.1875, 0.15234375, 0.1291351318359375, 0.11245924956165254, 0.09981216674968249, 0.08984969811841606, 0.08177672986644556, 0.07508929631879595, 0.06945089389714401, 0.06462746723403166, 0.06045075771294583, 0.05679646360487655, 0.05357062532685648]})\n",
    "\n",
    "population = population.next_nth_generations(10)\n",
    "population.validate({'generation': 25, 'value': 0.03433841067421475, 'growth_rate': 1.0, 'init': 0.5, 'history': [0.5, 0.25, 0.1875, 0.15234375, 0.1291351318359375, 0.11245924956165254, 0.09981216674968249, 0.08984969811841606, 0.08177672986644556, 0.07508929631879595, 0.06945089389714401, 0.06462746723403166, 0.06045075771294583, 0.05679646360487655, 0.05357062532685648, 0.05070081342894604, 0.04813024094658925, 0.04581372085301251, 0.04371482383461476, 0.041803838011723354, 0.04005627713921295, 0.03845177180095951, 0.036973233046326444, 0.035606213084428476, 0.03433841067421475]})"
   ]
  },
  {
   "cell_type": "markdown",
   "metadata": {},
   "source": [
    "### Plot functions"
   ]
  },
  {
   "cell_type": "code",
   "execution_count": null,
   "metadata": {},
   "outputs": [],
   "source": [
    "def plot_population_over_time(population: Population):\n",
    "    x = range(population.generation)\n",
    "    y = population.history\n",
    "        \n",
    "    plt.plot(x, y)\n",
    "\n",
    "def plot_convergence_values(list_population_histories: list[dict]):\n",
    "    R = []\n",
    "    C = []\n",
    "\n",
    "    hists = list_population_histories\n",
    "\n",
    "    for i in range(0, len(hists)):\n",
    "        r = hists[i]['growth_rate']\n",
    "        conv = hists[i]['convergence_value']\n",
    "        R = R + [r]\n",
    "        C = C + [conv]\n",
    "\n",
    "    plt.scatter(R, C)"
   ]
  },
  {
   "cell_type": "code",
   "execution_count": null,
   "metadata": {},
   "outputs": [],
   "source": [
    "plot_population_over_time(population)"
   ]
  },
  {
   "cell_type": "markdown",
   "metadata": {},
   "source": [
    "### Convergence value"
   ]
  },
  {
   "cell_type": "code",
   "execution_count": null,
   "metadata": {},
   "outputs": [],
   "source": [
    "def convergence_value(series: list[float]) -> float:\n",
    "    derivative_first = list( numpy.gradient( series ))\n",
    "    derivative_second = list( numpy.gradient( series ))\n",
    "\n",
    "    n: int = len(series) - 1\n",
    "    value_nth = series[n]\n",
    "    angle_nth = derivative_first[n]\n",
    "    curvature_nth = derivative_second[n]\n",
    "\n",
    "    if is_zero(angle_nth) and is_zero(curvature_nth):\n",
    "        return value_nth\n",
    "    else: \n",
    "        return None\n",
    "\n",
    "def is_zero(value) -> bool:\n",
    "    limit = 5e-7\n",
    "    return limit > abs(value)\n",
    "    "
   ]
  },
  {
   "cell_type": "code",
   "execution_count": null,
   "metadata": {},
   "outputs": [],
   "source": [
    "r = 1.0\n",
    "x = 0.5\n",
    "n = 150\n",
    "X = population_nth_generation(r, [x], n)\n",
    "\n",
    "convergence_value(X)"
   ]
  },
  {
   "cell_type": "markdown",
   "metadata": {},
   "source": [
    "## Find convergence value starting from x0"
   ]
  },
  {
   "cell_type": "code",
   "execution_count": null,
   "metadata": {},
   "outputs": [],
   "source": [
    "def find_convergence(growth_rate: float, population_history: list, try_until: int = 5000):\n",
    "    r: float = growth_rate\n",
    "    X: list = population_history\n",
    "\n",
    "    if len(X) < 10:\n",
    "        X = population_nth_generation(r, [x], 10)\n",
    "\n",
    "    convergence: float = None\n",
    "\n",
    "    while convergence is None and len(X) < try_until:\n",
    "        X = population_nth_generation(r, X, 1)\n",
    "        convergence = convergence_value(X)\n",
    "\n",
    "    # TODO - create struct\n",
    "    return {\n",
    "        'growth_rate': growth_rate,\n",
    "        'initial_value': population_history[0],\n",
    "        'convergence_value': convergence,\n",
    "        'generation': len(X) - 1,\n",
    "        'series': X,\n",
    "    }"
   ]
  },
  {
   "cell_type": "code",
   "execution_count": null,
   "metadata": {},
   "outputs": [],
   "source": [
    "r = 1.0\n",
    "x = 0.5\n",
    "\n",
    "convergence = find_convergence(r, [x], 5000)\n",
    "\n",
    "print(convergence['convergence_value'])\n",
    "print(convergence['generation'])\n",
    "plot_population_over_time(convergence['series'])"
   ]
  },
  {
   "cell_type": "markdown",
   "metadata": {},
   "source": [
    "### Build datatable r vs x vs n"
   ]
  },
  {
   "cell_type": "code",
   "execution_count": null,
   "metadata": {},
   "outputs": [],
   "source": [
    "x = 0.5\n",
    "r0 = 1.0\n",
    "rN = 4.0\n",
    "r_step = 0.1\n",
    "\n",
    "results = []\n",
    "\n",
    "for r in numpy.arange(r0, rN, r_step):\n",
    "    result = find_convergence(r, [x])\n",
    "    results = results + [result]"
   ]
  },
  {
   "cell_type": "code",
   "execution_count": null,
   "metadata": {},
   "outputs": [],
   "source": [
    "plot_convergence_values(results)"
   ]
  }
 ],
 "metadata": {
  "interpreter": {
   "hash": "ecf5722fdaf1897a315d257d89d94520bfcaa453217d5becf09b39e73618b0de"
  },
  "kernelspec": {
   "display_name": "Python 3.9.7 ('base')",
   "language": "python",
   "name": "python3"
  },
  "language_info": {
   "codemirror_mode": {
    "name": "ipython",
    "version": 3
   },
   "file_extension": ".py",
   "mimetype": "text/x-python",
   "name": "python",
   "nbconvert_exporter": "python",
   "pygments_lexer": "ipython3",
   "version": "3.9.7"
  },
  "orig_nbformat": 4
 },
 "nbformat": 4,
 "nbformat_minor": 2
}
