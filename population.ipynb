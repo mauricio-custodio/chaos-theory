{
 "cells": [
  {
   "cell_type": "code",
   "execution_count": null,
   "metadata": {},
   "outputs": [],
   "source": [
    "import matplotlib.pyplot as plt\n",
    "import numpy"
   ]
  },
  {
   "cell_type": "code",
   "execution_count": null,
   "metadata": {},
   "outputs": [],
   "source": [
    "class Population:\n",
    "    growth_rate: float\n",
    "    init: float\n",
    "    value: float\n",
    "    history: list[float]\n",
    "    generations: int\n",
    "\n",
    "    def __init__(self, r: float, X: list[float]):\n",
    "        self.history = X\n",
    "        self.growth_rate = r\n",
    "        self.generations = len(X)\n",
    "        self.init = X[0]\n",
    "        self.value = X[self.generations - 1]\n",
    "\n",
    "    # Generators\n",
    "\n",
    "    @classmethod\n",
    "    def new(cls, r: float, x0: float) -> 'Population':\n",
    "        return Population(r = r, X = [x0])\n",
    "\n",
    "    @classmethod\n",
    "    def set_with(cls, r: float, history: list[float]) -> 'Population':\n",
    "        return Population(r = r, X = history)\n",
    "    \n",
    "    def clone(self):\n",
    "        return Population.set_with(r=self.growth_rate, history=self.history)\n",
    "    \n",
    "    # Behaviours\n",
    "\n",
    "    def next_generation(self) -> 'Population':\n",
    "        population = self.clone()\n",
    "        r: float = population.growth_rate\n",
    "        x: float = population.value\n",
    "        x1 = r * x * (1 - x)\n",
    "\n",
    "        X = population.history + [x1]\n",
    "        population = Population.set_with(r=self.growth_rate, history=X)\n",
    "        return population\n",
    "\n",
    "    def next_nth_generations(self, n: int) -> 'Population':\n",
    "        population = self.clone()\n",
    "        N = n + population.generations\n",
    "        return population.until_nth_generation(N)\n",
    "    \n",
    "    def until_nth_generation(self, N: int) -> 'Population':\n",
    "        population = self.clone()\n",
    "        while population.generations < N:\n",
    "            population = population.next_generation()\n",
    "        return population\n"
   ]
  },
  {
   "cell_type": "code",
   "execution_count": null,
   "metadata": {},
   "outputs": [],
   "source": [
    "population = Population.new(r=1.0, x0 = 0.5)\n",
    "population = Population.set_with(r=1.0, history = [0.5])"
   ]
  },
  {
   "cell_type": "code",
   "execution_count": null,
   "metadata": {},
   "outputs": [],
   "source": [
    "population = population.next_generation()\n",
    "population.__dict__"
   ]
  },
  {
   "cell_type": "code",
   "execution_count": null,
   "metadata": {},
   "outputs": [],
   "source": [
    "population = population.until_nth_generation(15)\n",
    "population.__dict__"
   ]
  },
  {
   "cell_type": "code",
   "execution_count": null,
   "metadata": {},
   "outputs": [],
   "source": [
    "population = population.next_nth_generations(10)\n",
    "population.__dict__"
   ]
  },
  {
   "cell_type": "markdown",
   "metadata": {},
   "source": [
    "### Logistic differential equation"
   ]
  },
  {
   "cell_type": "code",
   "execution_count": null,
   "metadata": {},
   "outputs": [],
   "source": [
    "def population_next_generation(growth_rate: float, population: float) -> float:\n",
    "    r: float = growth_rate\n",
    "    x: float = population\n",
    "    return r * x * (1 - x)\n",
    "\n",
    "def population_nth_generation(growth_rate: float, population_history: list, generations: int) -> list:\n",
    "    r: float = growth_rate\n",
    "    t: int = generations\n",
    "    X: list = population_history\n",
    "    x0: float = population_history[-1]\n",
    "\n",
    "    x1 = population_next_generation(r, x0)\n",
    "    X = X + [x1]\n",
    "    t = t - 1\n",
    "    \n",
    "    if t > 0:\n",
    "        return population_nth_generation(r, X, t)\n",
    "    else:\n",
    "        return X"
   ]
  },
  {
   "cell_type": "markdown",
   "metadata": {},
   "source": [
    "### Plot functions"
   ]
  },
  {
   "cell_type": "code",
   "execution_count": null,
   "metadata": {},
   "outputs": [],
   "source": [
    "def plot_population_over_time(population_history: list):\n",
    "    fig = plt.figure()\n",
    "    ax = fig.add_subplot(1, 1, 1) \n",
    "\n",
    "    x = range(len(population_history))\n",
    "    y = population_history\n",
    "        \n",
    "    ax.cla()\n",
    "    ax.plot(x, y)\n",
    "\n",
    "def plot_convergence_values(list_population_histories: list[dict]):\n",
    "    R = []\n",
    "    C = []\n",
    "\n",
    "    hists = list_population_histories\n",
    "\n",
    "    for i in range(0, len(hists)):\n",
    "        r = hists[i]['growth_rate']\n",
    "        conv = hists[i]['convergence_value']\n",
    "        R = R + [r]\n",
    "        C = C + [conv]\n",
    "\n",
    "    plt.scatter(R, C)"
   ]
  },
  {
   "cell_type": "markdown",
   "metadata": {},
   "source": [
    "### Next generation population"
   ]
  },
  {
   "cell_type": "code",
   "execution_count": null,
   "metadata": {},
   "outputs": [],
   "source": [
    "r = 2.5\n",
    "x = 0.5"
   ]
  },
  {
   "cell_type": "code",
   "execution_count": null,
   "metadata": {},
   "outputs": [],
   "source": [
    "x = population_next_generation(r, x)\n",
    "x"
   ]
  },
  {
   "cell_type": "markdown",
   "metadata": {},
   "source": [
    "### Calculate all generation's population"
   ]
  },
  {
   "cell_type": "code",
   "execution_count": null,
   "metadata": {},
   "outputs": [],
   "source": [
    "r = 3.0\n",
    "x = 0.5\n",
    "n = 100\n",
    "\n",
    "X = population_nth_generation(r, [x], n)\n",
    "plot_population_over_time(X)"
   ]
  },
  {
   "cell_type": "markdown",
   "metadata": {},
   "source": [
    "### Convergence value"
   ]
  },
  {
   "cell_type": "code",
   "execution_count": null,
   "metadata": {},
   "outputs": [],
   "source": [
    "def convergence_value(series: list[float]) -> float:\n",
    "    derivative_first = list( numpy.gradient( series ))\n",
    "    derivative_second = list( numpy.gradient( series ))\n",
    "\n",
    "    n: int = len(series) - 1\n",
    "    value_nth = series[n]\n",
    "    angle_nth = derivative_first[n]\n",
    "    curvature_nth = derivative_second[n]\n",
    "\n",
    "    if is_zero(angle_nth) and is_zero(curvature_nth):\n",
    "        return value_nth\n",
    "    else: \n",
    "        return None\n",
    "\n",
    "def is_zero(value) -> bool:\n",
    "    limit = 5e-7\n",
    "    return limit > abs(value)\n",
    "    "
   ]
  },
  {
   "cell_type": "code",
   "execution_count": null,
   "metadata": {},
   "outputs": [],
   "source": [
    "r = 1.0\n",
    "x = 0.5\n",
    "n = 150\n",
    "X = population_nth_generation(r, [x], n)\n",
    "\n",
    "convergence_value(X)"
   ]
  },
  {
   "cell_type": "markdown",
   "metadata": {},
   "source": [
    "## Find convergence value starting from x0"
   ]
  },
  {
   "cell_type": "code",
   "execution_count": null,
   "metadata": {},
   "outputs": [],
   "source": [
    "def find_convergence(growth_rate: float, population_history: list, try_until: int = 5000):\n",
    "    r: float = growth_rate\n",
    "    X: list = population_history\n",
    "\n",
    "    if len(X) < 10:\n",
    "        X = population_nth_generation(r, [x], 10)\n",
    "\n",
    "    convergence: float = None\n",
    "\n",
    "    while convergence is None and len(X) < try_until:\n",
    "        X = population_nth_generation(r, X, 1)\n",
    "        convergence = convergence_value(X)\n",
    "\n",
    "    # TODO - create struct\n",
    "    return {\n",
    "        'growth_rate': growth_rate,\n",
    "        'initial_value': population_history[0],\n",
    "        'convergence_value': convergence,\n",
    "        'generation': len(X) - 1,\n",
    "        'series': X,\n",
    "    }"
   ]
  },
  {
   "cell_type": "code",
   "execution_count": null,
   "metadata": {},
   "outputs": [],
   "source": [
    "r = 1.0\n",
    "x = 0.5\n",
    "\n",
    "convergence = find_convergence(r, [x], 5000)\n",
    "\n",
    "print(convergence['convergence_value'])\n",
    "print(convergence['generation'])\n",
    "plot_population_over_time(convergence['series'])"
   ]
  },
  {
   "cell_type": "markdown",
   "metadata": {},
   "source": [
    "### Build datatable r vs x vs n"
   ]
  },
  {
   "cell_type": "code",
   "execution_count": null,
   "metadata": {},
   "outputs": [],
   "source": [
    "x = 0.5\n",
    "r0 = 1.0\n",
    "rN = 4.0\n",
    "r_step = 0.1\n",
    "\n",
    "results = []\n",
    "\n",
    "for r in numpy.arange(r0, rN, r_step):\n",
    "    result = find_convergence(r, [x])\n",
    "    results = results + [result]"
   ]
  },
  {
   "cell_type": "code",
   "execution_count": null,
   "metadata": {},
   "outputs": [],
   "source": [
    "plot_convergence_values(results)"
   ]
  }
 ],
 "metadata": {
  "interpreter": {
   "hash": "ecf5722fdaf1897a315d257d89d94520bfcaa453217d5becf09b39e73618b0de"
  },
  "kernelspec": {
   "display_name": "Python 3.9.7 ('base')",
   "language": "python",
   "name": "python3"
  },
  "language_info": {
   "codemirror_mode": {
    "name": "ipython",
    "version": 3
   },
   "file_extension": ".py",
   "mimetype": "text/x-python",
   "name": "python",
   "nbconvert_exporter": "python",
   "pygments_lexer": "ipython3",
   "version": "3.9.7"
  },
  "orig_nbformat": 4
 },
 "nbformat": 4,
 "nbformat_minor": 2
}
